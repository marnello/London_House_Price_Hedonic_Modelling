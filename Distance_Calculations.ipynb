{
 "cells": [
  {
   "cell_type": "code",
   "execution_count": 3,
   "metadata": {},
   "outputs": [],
   "source": [
    "import numpy as np\n",
    "import pandas as pd\n",
    "import geopandas as gpd"
   ]
  },
  {
   "cell_type": "code",
   "execution_count": 4,
   "metadata": {},
   "outputs": [],
   "source": [
    "#import the relevant data \n",
    "hp = pd.read_csv('London_House_Prices.csv')\n",
    "sch = pd.read_csv('London_All_Schools.csv')\n",
    "p_sch = pd.read_csv('London_Private_Schools.csv')\n",
    "fsm_sch = pd.read_csv('FSM_Schools.csv')"
   ]
  },
  {
   "cell_type": "code",
   "execution_count": 5,
   "metadata": {},
   "outputs": [],
   "source": [
    "#set hp as a gpd object. necessary format for min dist calcs\n",
    "hp = gpd.GeoDataFrame(\n",
    "    hp, geometry=gpd.points_from_xy(x=hp.east, y=hp.north))"
   ]
  },
  {
   "cell_type": "code",
   "execution_count": 19,
   "metadata": {},
   "outputs": [],
   "source": [
    "#create appropriate gpd object\n",
    "sch = gpd.GeoDataFrame(\n",
    "    sch, geometry=gpd.points_from_xy(x=sch.east, y=sch.north))\n",
    "\n",
    "#make nearest distance from any school column - this involves some temporary files: hptemp1 etc\n",
    "hptemp = hp.geometry.apply(lambda x: sch.distance(x).min())\n",
    "hptemp1 = pd.merge(hp, hptemp, left_index=True, right_index=True)\n",
    "data = hptemp1.rename(index=str, columns={\"geometry_y\":\"Dist_School\", \"geometry_x\":\"geometry\"})"
   ]
  },
  {
   "cell_type": "code",
   "execution_count": 18,
   "metadata": {},
   "outputs": [],
   "source": [
    "#create appropriate gpd object\n",
    "fsm_sch= gpd.GeoDataFrame(\n",
    "    fsm_sch, geometry=gpd.points_from_xy(x=fsm_sch.east, y=fsm_sch.north))\n",
    "\n",
    "#make nearest distance from any >30% FSM school column\n",
    "hptemp2 = hp.geometry.apply(lambda x: fsm_sch.distance(x).min())\n",
    "hptemp3 = pd.merge(hp, hptemp2, left_index=True, right_index=True)\n",
    "data1 = hptemp3.rename(index=str, columns={\"geometry_y\":\"Dist_FSM\", \"geometry_x\":\"geometry\"})"
   ]
  },
  {
   "cell_type": "code",
   "execution_count": 7,
   "metadata": {},
   "outputs": [],
   "source": [
    "#create appropriate gpd object\n",
    "p_sch= gpd.GeoDataFrame(\n",
    "    p_sch, geometry=gpd.points_from_xy(x=p_sch.east, y=p_sch.north))\n",
    "\n",
    "#make nearest distance from any private school column\n",
    "hptemp4 = hp.geometry.apply(lambda x: p_sch.distance(x).min())\n",
    "hptemp5 = pd.merge(hp, hptemp4, left_index=True, right_index=True)\n",
    "data2 = hptemp5.rename(index=str, columns={\"geometry_y\":\"Dist_Priv\", \"geometry_x\":\"geometry\"})"
   ]
  },
  {
   "cell_type": "code",
   "execution_count": 9,
   "metadata": {},
   "outputs": [],
   "source": [
    "#create appropriate gpd object\n",
    "off1_sch = sch[sch['Ofsted_Rating']==1]\n",
    "of1_sch= gpd.GeoDataFrame(\n",
    "    off1_sch, geometry=gpd.points_from_xy(x=off1_sch.east, y=off1_sch.north))\n",
    "\n",
    "#make nearest distance from any school with Ofsted=1 rating column\n",
    "hptemp6 = hp.geometry.apply(lambda x: of1_sch.distance(x).min())\n",
    "hptemp7 = pd.merge(hp, hptemp6, left_index=True, right_index=True)\n",
    "data3 = hptemp7.rename(index=str, columns={\"geometry_y\":\"Dist_Of1\", \"geometry_x\":\"geometry\"})"
   ]
  },
  {
   "cell_type": "code",
   "execution_count": 8,
   "metadata": {},
   "outputs": [],
   "source": [
    "#create appropriate gpd object\n",
    "offnotzero = sch[sch['Ofsted_Rating']>0]\n",
    "off12_sch = offnotzero[offnotzero['Ofsted_Rating']<3]\n",
    "\n",
    "of12_sch= gpd.GeoDataFrame(\n",
    "    off12_sch, geometry=gpd.points_from_xy(x=off12_sch.east, y=off12_sch.north))\n",
    "\n",
    "#make nearest distance from any school with Ofsted 1 or 2 rating column\n",
    "hptemp8 = hp.geometry.apply(lambda x: of12_sch.distance(x).min())\n",
    "hptemp9 = pd.merge(hp, hptemp8, left_index=True, right_index=True)\n",
    "data4 = hptemp9.rename(index=str, columns={\"geometry_y\":\"Dist_Of12\", \"geometry_x\":\"geometry\"})"
   ]
  },
  {
   "cell_type": "code",
   "execution_count": 10,
   "metadata": {},
   "outputs": [],
   "source": [
    "#create appropriate gpd object\n",
    "prim12_sch = off12_sch[off12_sch['Primary']==1]\n",
    "\n",
    "prim12_sch= gpd.GeoDataFrame(\n",
    "    prim12_sch, geometry=gpd.points_from_xy(x=prim12_sch.east, y=prim12_sch.north))\n",
    "\n",
    "#make nearest distance from any primary school column\n",
    "hptemp10 = hp.geometry.apply(lambda x: prim12_sch.distance(x).min())\n",
    "hptemp11 = pd.merge(hp, hptemp10, left_index=True, right_index=True)\n",
    "data5 = hptemp11.rename(index=str, columns={\"geometry_y\":\"Dist_Prim12\", \"geometry_x\":\"geometry\"})"
   ]
  },
  {
   "cell_type": "code",
   "execution_count": 11,
   "metadata": {},
   "outputs": [],
   "source": [
    "#create appropriate gpd object\n",
    "sec12_sch = off12_sch[off12_sch['Primary']==0]\n",
    "\n",
    "sec12_sch= gpd.GeoDataFrame(\n",
    "    sec12_sch, geometry=gpd.points_from_xy(x=sec12_sch.east, y=sec12_sch.north))\n",
    "\n",
    "#make nearest distance from any secondary school column\n",
    "hptemp12 = hp.geometry.apply(lambda x: sec12_sch.distance(x).min())\n",
    "hptemp13 = pd.merge(hp, hptemp12, left_index=True, right_index=True)\n",
    "data6 = hptemp13.rename(index=str, columns={\"geometry_y\":\"Dist_Sec12\", \"geometry_x\":\"geometry\"})"
   ]
  },
  {
   "cell_type": "code",
   "execution_count": 12,
   "metadata": {},
   "outputs": [],
   "source": [
    "#create appropriate gpd object\n",
    "vas_sch = sch[sch['TYPE']=='Voluntary Aided School']\n",
    "\n",
    "vas_sch= gpd.GeoDataFrame(\n",
    "    vas_sch, geometry=gpd.points_from_xy(x=vas_sch.east, y=vas_sch.north))\n",
    "\n",
    "#make nearest distance from any VAS school column\n",
    "hptemp14 = hp.geometry.apply(lambda x: vas_sch.distance(x).min())\n",
    "hptemp15 = pd.merge(hp, hptemp14, left_index=True, right_index=True)\n",
    "data7 = hptemp15.rename(index=str, columns={\"geometry_y\":\"Dist_VAS\", \"geometry_x\":\"geometry\"})"
   ]
  },
  {
   "cell_type": "code",
   "execution_count": 14,
   "metadata": {},
   "outputs": [],
   "source": [
    "#make nearest distance from any Acad Spons school column\n",
    "acsp_sch = sch[sch['TYPE']=='Academy Sponsor Led']\n",
    "\n",
    "acsp_sch= gpd.GeoDataFrame(\n",
    "    acsp_sch, geometry=gpd.points_from_xy(x=acsp_sch.east, y=acsp_sch.north))\n",
    "\n",
    "hptemp16 = hp.geometry.apply(lambda x: acsp_sch.distance(x).min())\n",
    "hptemp17 = pd.merge(hp, hptemp16, left_index=True, right_index=True)\n",
    "data8 = hptemp17.rename(index=str, columns={\"geometry_y\":\"Dist_AcSponsor\", \"geometry_x\":\"geometry\"})"
   ]
  },
  {
   "cell_type": "code",
   "execution_count": 20,
   "metadata": {},
   "outputs": [],
   "source": [
    "#merge the datasets together then save as geojson\n",
    "xxx = pd.merge(data,data1)\n",
    "xxx1 = pd.merge(xxx,data2)\n",
    "xxx2 = pd.merge(xxx1,data3)\n",
    "xxx3 = pd.merge(xxx2,data4)\n",
    "xxx4 = pd.merge(xxx3,data5)\n",
    "xxx5 = pd.merge(xxx4,data6)\n",
    "xxx6 = pd.merge(xxx5,data7)\n",
    "xxx7 = pd.merge(xxx6,data8)\n",
    "min_dist_data = gpd.GeoDataFrame(\n",
    "    xxx7, geometry=gpd.points_from_xy(x=xxx7.east, y=xxx7.north))\n",
    "\n",
    "min_dist_data.to_file(\"min_dist_data.geojson\", driver='GeoJSON')"
   ]
  },
  {
   "cell_type": "code",
   "execution_count": 22,
   "metadata": {},
   "outputs": [
    {
     "data": {
      "text/plain": [
       "<bound method NDFrame.head of           ID    east   north    price propertytype duration  fl_area  \\\n",
       "0          1  528925  157964   995000            D        F  288.000   \n",
       "1          2  533634  180992  1300000            F        L  140.000   \n",
       "2          3  532528  181795   895000            F        L   73.000   \n",
       "3          4  531576  181225   585000            F        L   46.000   \n",
       "4          5  532228  181982   725000            F        L   64.000   \n",
       "...      ...     ...     ...      ...          ...      ...      ...   \n",
       "70920  70921  525739  183224   495000            F        L   61.310   \n",
       "70921  70922  527424  181243   345000            F        L   25.000   \n",
       "70922  70923  525870  180694   670000            F        L   66.806   \n",
       "70923  70924  542758  191959   250000            F        L   45.460   \n",
       "70924  70925  509452  192039   560000            F        L  100.000   \n",
       "\n",
       "       No_Rooms  Price_Per_sqm  Postcode                       geometry  \\\n",
       "0             7    3454.861111  CR5  3EZ  POINT (528925.000 157964.000)   \n",
       "1             3    9285.714286  EC3N 1NT  POINT (533634.000 180992.000)   \n",
       "2             3   12260.273973  EC2Y 8AU  POINT (532528.000 181795.000)   \n",
       "3             2   12717.391304  EC4A 4AX  POINT (531576.000 181225.000)   \n",
       "4             3   11328.125000  EC2Y 8AH  POINT (532228.000 181982.000)   \n",
       "...         ...            ...       ...                            ...   \n",
       "70920         3    8073.723699  W9   1QE  POINT (525739.000 183224.000)   \n",
       "70921         1   13800.000000  W2   2QS  POINT (527424.000 181243.000)   \n",
       "70922         4   10029.039308  W2   4QR  POINT (525870.000 180694.000)   \n",
       "70923         2    5499.340079  IG8  8BH  POINT (542758.000 191959.000)   \n",
       "70924         4    5600.000000  HA6  3LG  POINT (509452.000 192039.000)   \n",
       "\n",
       "       Dist_School     Dist_FSM    Dist_Priv     Dist_Of1    Dist_Of12  \\\n",
       "0       943.612208  1852.404114   943.612208  1972.702968  1303.989264   \n",
       "1       249.353163   543.945769   479.688441   249.353163   249.353163   \n",
       "2       232.228336   739.537693   232.228336   739.537693   279.034048   \n",
       "3       556.044962   739.784428   556.044962   739.784428   739.784428   \n",
       "4       155.283611   541.651179   193.132079   803.916040   155.283611   \n",
       "...            ...          ...          ...          ...          ...   \n",
       "70920   113.740934   219.920440   114.017543   271.889684   219.920440   \n",
       "70921   124.040316   227.701559   225.435135   124.040316   124.040316   \n",
       "70922   147.013605   330.498109   147.013605   775.898189   330.498109   \n",
       "70923   606.293658  2372.590357  2437.251321  2170.029723   606.293658   \n",
       "70924   357.278603  3273.201033   357.278603   850.416957   423.018912   \n",
       "\n",
       "       Dist_Prim12   Dist_Sec12     Dist_VAS  Dist_AcSponsor  \n",
       "0      1303.989264  2733.169772  1303.989264     2733.169772  \n",
       "1       249.353163  1133.884033   249.353163     2112.389405  \n",
       "2       279.034048   739.537693   739.537693     1907.992662  \n",
       "3       739.784428   936.476908   739.784428     2341.172783  \n",
       "4       155.283611   803.916040   541.651179     1667.857608  \n",
       "...            ...          ...          ...             ...  \n",
       "70920   219.920440   271.889684   219.920440      981.212006  \n",
       "70921   124.040316   735.010884   124.040316      735.010884  \n",
       "70922   330.498109   506.948715   592.756274     1131.152068  \n",
       "70923   606.293658  1656.457063  2088.043342     3799.082126  \n",
       "70924   423.018912  4675.675352  1182.123513     3816.240034  \n",
       "\n",
       "[70925 rows x 20 columns]>"
      ]
     },
     "execution_count": 22,
     "metadata": {},
     "output_type": "execute_result"
    }
   ],
   "source": [
    "min_dist_data.head"
   ]
  },
  {
   "cell_type": "code",
   "execution_count": null,
   "metadata": {},
   "outputs": [],
   "source": []
  },
  {
   "cell_type": "code",
   "execution_count": null,
   "metadata": {},
   "outputs": [],
   "source": []
  },
  {
   "cell_type": "code",
   "execution_count": null,
   "metadata": {},
   "outputs": [],
   "source": []
  },
  {
   "cell_type": "code",
   "execution_count": null,
   "metadata": {},
   "outputs": [],
   "source": []
  },
  {
   "cell_type": "code",
   "execution_count": null,
   "metadata": {},
   "outputs": [],
   "source": []
  },
  {
   "cell_type": "code",
   "execution_count": null,
   "metadata": {},
   "outputs": [],
   "source": []
  },
  {
   "cell_type": "code",
   "execution_count": null,
   "metadata": {},
   "outputs": [],
   "source": []
  }
 ],
 "metadata": {
  "kernelspec": {
   "display_name": "Python 3",
   "language": "python",
   "name": "python3"
  },
  "language_info": {
   "codemirror_mode": {
    "name": "ipython",
    "version": 3
   },
   "file_extension": ".py",
   "mimetype": "text/x-python",
   "name": "python",
   "nbconvert_exporter": "python",
   "pygments_lexer": "ipython3",
   "version": "3.8.5"
  }
 },
 "nbformat": 4,
 "nbformat_minor": 4
}
