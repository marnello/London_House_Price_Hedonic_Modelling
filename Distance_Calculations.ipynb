{
 "cells": [
  {
   "cell_type": "code",
   "execution_count": 1,
   "metadata": {},
   "outputs": [],
   "source": [
    "import numpy as np\n",
    "import pandas as pd\n",
    "import geopandas as gpd"
   ]
  },
  {
   "cell_type": "code",
   "execution_count": 2,
   "metadata": {},
   "outputs": [],
   "source": [
    "#import the relevant data \n",
    "hp = pd.read_csv('London_House_Prices.csv')\n",
    "sch = pd.read_csv('London_All_Schools.csv')\n",
    "p_sch = pd.read_csv('London_Private_Schools.csv')\n",
    "\n",
    "#set up as gpd\n",
    "sch2 = gpd.GeoDataFrame(\n",
    "    sch, geometry=gpd.points_from_xy(x=sch.east, y=sch.north))\n",
    "hp2 = gpd.GeoDataFrame(\n",
    "    hp, geometry=gpd.points_from_xy(x=hp.east, y=hp.north))\n",
    "p_sch= gpd.GeoDataFrame(\n",
    "    p_sch, geometry=gpd.points_from_xy(x=p_sch.east, y=p_sch.north))"
   ]
  },
  {
   "cell_type": "code",
   "execution_count": null,
   "metadata": {},
   "outputs": [],
   "source": []
  },
  {
   "cell_type": "code",
   "execution_count": null,
   "metadata": {},
   "outputs": [],
   "source": [
    "#make nearest distance from any school column - this involves some temporary files: hptemp1 etc\n",
    "hptemp = hp.geometry.apply(lambda x: sch2.distance(x).min())\n",
    "hptemp1 = pd.merge(hp, hptemp, left_index=True, right_index=True)\n",
    "data1 = hptemp1.rename(index=str, columns={\"geometry_y\":\"Dist_School\", \"geometry_x\":\"geometry\"})"
   ]
  },
  {
   "cell_type": "code",
   "execution_count": null,
   "metadata": {},
   "outputs": [],
   "source": [
    "#make nearest distance from any >30% FSM school column\n",
    "hptemp2 = hp.geometry.apply(lambda x: fsm_sch.distance(x).min())\n",
    "hptemp3 = pd.merge(hp, hptemp2, left_index=True, right_index=True)\n",
    "data2 = hptemp3.rename(index=str, columns={\"geometry_y\":\"Dist_FSM\", \"geometry_x\":\"geometry\"})"
   ]
  },
  {
   "cell_type": "code",
   "execution_count": null,
   "metadata": {},
   "outputs": [],
   "source": [
    "#make nearest distance from any private school column\n",
    "hptemp4 = hp.geometry.apply(lambda x: p_sch.distance(x).min())\n",
    "hptemp5 = pd.merge(hp, hptemp4, left_index=True, right_index=True)\n",
    "data2 = hptemp5.rename(index=str, columns={\"geometry_y\":\"Dist_Priv\", \"geometry_x\":\"geometry\"})"
   ]
  },
  {
   "cell_type": "code",
   "execution_count": null,
   "metadata": {},
   "outputs": [],
   "source": [
    "#make nearest distance from any school with Ofsted=1 rating column\n",
    "off1_sch = sch[sch['Ofsted_Rating']==1]\n",
    "of1_sch= gpd.GeoDataFrame(\n",
    "    off1_sch, geometry=gpd.points_from_xy(x=off1_sch.east, y=off1_sch.north))\n",
    "\n",
    "hptemp6 = hp.geometry.apply(lambda x: of1_sch.distance(x).min())\n",
    "hptemp7 = pd.merge(hp, hptemp6, left_index=True, right_index=True)\n",
    "data3 = hptemp7.rename(index=str, columns={\"geometry_y\":\"Dist_Of1\", \"geometry_x\":\"geometry\"})"
   ]
  },
  {
   "cell_type": "code",
   "execution_count": null,
   "metadata": {},
   "outputs": [],
   "source": [
    "#make nearest distance from any school with Ofsted 1 or 2 rating column\n",
    "offnotzero = sch[sch['Ofsted_Rating']>0]\n",
    "off12_sch = offnotzero[offnotzero['Ofsted_Rating']<3]\n",
    "\n",
    "of12_sch= gpd.GeoDataFrame(\n",
    "    off12_sch, geometry=gpd.points_from_xy(x=off12_sch.east, y=off12_sch.north))\n",
    "\n",
    "hptemp8 = hp.geometry.apply(lambda x: of12_sch.distance(x).min())\n",
    "hptemp9 = pd.merge(hp, hptemp8, left_index=True, right_index=True)\n",
    "data4 = hptemp9.rename(index=str, columns={\"geometry_y\":\"Dist_Of12\", \"geometry_x\":\"geometry\"})"
   ]
  },
  {
   "cell_type": "code",
   "execution_count": null,
   "metadata": {},
   "outputs": [],
   "source": [
    "#make nearest distance from any primary school column\n",
    "prim12_sch = off12_sch[off12_sch['Primary']==1]\n",
    "\n",
    "prim12_sch= gpd.GeoDataFrame(\n",
    "    prim12_sch, geometry=gpd.points_from_xy(x=prim12_sch.east, y=prim12_sch.north))\n",
    "\n",
    "hptemp10 = hp.geometry.apply(lambda x: prim12_sch.distance(x).min())\n",
    "hptemp11 = pd.merge(hp, hptemp10, left_index=True, right_index=True)\n",
    "data5 = hptemp11.rename(index=str, columns={\"geometry_y\":\"Dist_Prim12\", \"geometry_x\":\"geometry\"})"
   ]
  },
  {
   "cell_type": "code",
   "execution_count": null,
   "metadata": {},
   "outputs": [],
   "source": [
    "#make nearest distance from any secondary school column\n",
    "sec12_sch = off12_sch[off12_sch['Primary']==0]\n",
    "\n",
    "sec12_sch= gpd.GeoDataFrame(\n",
    "    sec12_sch, geometry=gpd.points_from_xy(x=sec12_sch.east, y=sec12_sch.north))\n",
    "\n",
    "hptemp12 = hp.geometry.apply(lambda x: sec12_sch.distance(x).min())\n",
    "hptemp13 = pd.merge(hp, hptemp12, left_index=True, right_index=True)\n",
    "data6 = hptemp13.rename(index=str, columns={\"geometry_y\":\"Dist_Sec12\", \"geometry_x\":\"geometry\"})"
   ]
  },
  {
   "cell_type": "code",
   "execution_count": null,
   "metadata": {},
   "outputs": [],
   "source": [
    "#make nearest distance from any VAS school column\n",
    "vas_sch = sch[sch['TYPE']=='Voluntary Aided School']\n",
    "\n",
    "vas_sch= gpd.GeoDataFrame(\n",
    "    vas_sch, geometry=gpd.points_from_xy(x=vas_sch.east, y=vas_sch.north))\n",
    "\n",
    "hptemp14 = hp.geometry.apply(lambda x: vas_sch.distance(x).min())\n",
    "hptemp15 = pd.merge(hp, hptemp14, left_index=True, right_index=True)\n",
    "data7 = hptemp15.rename(index=str, columns={\"geometry_y\":\"Dist_VAS\", \"geometry_x\":\"geometry\"})"
   ]
  },
  {
   "cell_type": "code",
   "execution_count": 3,
   "metadata": {},
   "outputs": [],
   "source": [
    "#make nearest distance from any Acad Spons school column\n",
    "acsp_sch = sch2[sch2['TYPE']=='Academy Sponsor Led']\n",
    "\n",
    "hptemp16 = hp.geometry.apply(lambda x: acsp_sch.distance(x).min())\n",
    "hptemp17 = pd.merge(hp, hptemp16, left_index=True, right_index=True)\n",
    "data8 = hptemp17.rename(index=str, columns={\"geometry_y\":\"Dist_AcSponsor\", \"geometry_x\":\"geometry\"})"
   ]
  },
  {
   "cell_type": "code",
   "execution_count": null,
   "metadata": {},
   "outputs": [],
   "source": [
    "#merge the datasets together then save as geojson\n",
    "xxx = pd.merge(data1,data2)\n",
    "xxx1 = pd.merge(xxx,data3)\n",
    "xxx2 = pd.merge(xxx1,data4)\n",
    "xxx3 = pd.merge(xxx2,data5)\n",
    "xxx4 = pd.merge(xxx3,data6)\n",
    "xxx5 = pd.merge(xxx4,data7)\n",
    "xxx6 = pd.merge(xxx5,data8)\n",
    "complete_data = gpd.GeoDataFrame(\n",
    "    xxx6, geometry=gpd.points_from_xy(x=xxx6.east, y=xxx6.north))\n",
    "\n",
    "\n",
    "complete_data.to_file(\"complete_data.geojson\", driver='GeoJSON')"
   ]
  },
  {
   "cell_type": "code",
   "execution_count": null,
   "metadata": {},
   "outputs": [],
   "source": []
  },
  {
   "cell_type": "code",
   "execution_count": null,
   "metadata": {},
   "outputs": [],
   "source": []
  },
  {
   "cell_type": "code",
   "execution_count": null,
   "metadata": {},
   "outputs": [],
   "source": []
  },
  {
   "cell_type": "code",
   "execution_count": null,
   "metadata": {},
   "outputs": [],
   "source": []
  },
  {
   "cell_type": "code",
   "execution_count": null,
   "metadata": {},
   "outputs": [],
   "source": []
  },
  {
   "cell_type": "code",
   "execution_count": null,
   "metadata": {},
   "outputs": [],
   "source": []
  },
  {
   "cell_type": "code",
   "execution_count": null,
   "metadata": {},
   "outputs": [],
   "source": []
  }
 ],
 "metadata": {
  "kernelspec": {
   "display_name": "Python 3",
   "language": "python",
   "name": "python3"
  },
  "language_info": {
   "codemirror_mode": {
    "name": "ipython",
    "version": 3
   },
   "file_extension": ".py",
   "mimetype": "text/x-python",
   "name": "python",
   "nbconvert_exporter": "python",
   "pygments_lexer": "ipython3",
   "version": "3.8.5"
  }
 },
 "nbformat": 4,
 "nbformat_minor": 4
}
